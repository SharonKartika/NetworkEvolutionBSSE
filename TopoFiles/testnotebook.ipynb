{
 "cells": [
  {
   "cell_type": "markdown",
   "metadata": {},
   "source": [
    "### Algorithm\n",
    "1. Load an `initial network`. Convert to *Adjacency matrix* format.\n",
    "2. Create 10 copies of `initial network` , each with noise. (*Mutation*)\n",
    "3. Evaluate each using `bmodel_reps()`.\n",
    "4. Find two of those with the highest *summed probability* for one-hot vectors.\n",
    "5. Mix parts of the two networks (*Recombination*).\n",
    "6. Select one with higher fitness. \n",
    "7. If fitness is as desired, output the current network and exit. \n",
    "7. Use as `initial network`. Go to step `2`. \n",
    "\n",
    "    \n"
   ]
  },
  {
   "cell_type": "code",
   "execution_count": 19,
   "metadata": {},
   "outputs": [
    {
     "data": {
      "text/plain": [
       "zeroConv (generic function with 2 methods)"
      ]
     },
     "metadata": {},
     "output_type": "display_data"
    }
   ],
   "source": [
    "include(\"../Boolean.jl/bmodel.jl\")\n",
    "include(\"../Boolean.jl/utils.jl\")"
   ]
  },
  {
   "cell_type": "code",
   "execution_count": 17,
   "metadata": {},
   "outputs": [
    {
     "data": {
      "text/plain": [
       "2-element Vector{String}:\n",
       " \"toggleswitch.topo\"\n",
       " \"toggletriad.topo\""
      ]
     },
     "metadata": {},
     "output_type": "display_data"
    }
   ],
   "source": [
    "fileList = readdir()\n",
    "topoFiles = String[]\n",
    "for i in fileList\n",
    "\tif endswith(i, \"topo\")\n",
    "\t\tpush!(topoFiles, i)\n",
    "\tend\n",
    "end\n",
    "topoFiles\n"
   ]
  },
  {
   "cell_type": "code",
   "execution_count": 22,
   "metadata": {},
   "outputs": [
    {
     "data": {
      "text/html": [
       "<div class=\"data-frame\"><p>6 rows × 5 columns</p><table class=\"data-frame\"><thead><tr><th></th><th>states</th><th>flag</th><th>Avg0</th><th>SD0</th><th>frust0</th></tr><tr><th></th><th title=\"Any\">Any</th><th title=\"Any\">Any</th><th title=\"Union{Missing, Float64}\">Float64?</th><th title=\"Union{Missing, Float64}\">Float64?</th><th title=\"Any\">Any</th></tr></thead><tbody><tr><th>1</th><td>&apos;001&apos;</td><td>1</td><td>0.161</td><td>0.0167531</td><td>0.333333</td></tr><tr><th>2</th><td>&apos;101&apos;</td><td>1</td><td>0.169</td><td>0.00565685</td><td>0.333333</td></tr><tr><th>3</th><td>&apos;110&apos;</td><td>1</td><td>0.171</td><td>0.00828654</td><td>0.333333</td></tr><tr><th>4</th><td>&apos;100&apos;</td><td>1</td><td>0.166667</td><td>0.0126579</td><td>0.333333</td></tr><tr><th>5</th><td>&apos;010&apos;</td><td>1</td><td>0.173333</td><td>0.0169967</td><td>0.333333</td></tr><tr><th>6</th><td>&apos;011&apos;</td><td>1</td><td>0.159</td><td>0.00408248</td><td>0.333333</td></tr></tbody></table></div>"
      ],
      "text/latex": [
       "\\begin{tabular}{r|ccccc}\n",
       "\t& states & flag & Avg0 & SD0 & frust0\\\\\n",
       "\t\\hline\n",
       "\t& Any & Any & Float64? & Float64? & Any\\\\\n",
       "\t\\hline\n",
       "\t1 & '001' & 1 & 0.161 & 0.0167531 & 0.333333 \\\\\n",
       "\t2 & '101' & 1 & 0.169 & 0.00565685 & 0.333333 \\\\\n",
       "\t3 & '110' & 1 & 0.171 & 0.00828654 & 0.333333 \\\\\n",
       "\t4 & '100' & 1 & 0.166667 & 0.0126579 & 0.333333 \\\\\n",
       "\t5 & '010' & 1 & 0.173333 & 0.0169967 & 0.333333 \\\\\n",
       "\t6 & '011' & 1 & 0.159 & 0.00408248 & 0.333333 \\\\\n",
       "\\end{tabular}\n"
      ],
      "text/plain": [
       "\u001b[1m6×5 DataFrame\u001b[0m\n",
       "\u001b[1m Row \u001b[0m│\u001b[1m states \u001b[0m\u001b[1m flag \u001b[0m\u001b[1m Avg0     \u001b[0m\u001b[1m SD0        \u001b[0m\u001b[1m frust0   \u001b[0m\n",
       "\u001b[1m     \u001b[0m│\u001b[90m Any    \u001b[0m\u001b[90m Any  \u001b[0m\u001b[90m Float64? \u001b[0m\u001b[90m Float64?   \u001b[0m\u001b[90m Any      \u001b[0m\n",
       "─────┼──────────────────────────────────────────────\n",
       "   1 │ '001'   1     0.161     0.0167531   0.333333\n",
       "   2 │ '101'   1     0.169     0.00565685  0.333333\n",
       "   3 │ '110'   1     0.171     0.00828654  0.333333\n",
       "   4 │ '100'   1     0.166667  0.0126579   0.333333\n",
       "   5 │ '010'   1     0.173333  0.0169967   0.333333\n",
       "   6 │ '011'   1     0.159     0.00408248  0.333333"
      ]
     },
     "metadata": {},
     "output_type": "display_data"
    }
   ],
   "source": [
    "x = bmodel_reps(topoFiles[2]; nInit = 1000, nIter = 1000, mode = \"Async\", stateRep = -1, randSim=false)\n"
   ]
  },
  {
   "cell_type": "code",
   "execution_count": 24,
   "metadata": {},
   "outputs": [
    {
     "data": {
      "text/plain": [
       "3×3 Matrix{Int64}:\n",
       "  0  -1  -1\n",
       " -1   0  -1\n",
       " -1  -1   0"
      ]
     },
     "metadata": {},
     "output_type": "display_data"
    }
   ],
   "source": [
    "y = topo2interaction(topoFiles[2])[1]"
   ]
  },
  {
   "cell_type": "code",
   "execution_count": null,
   "metadata": {},
   "outputs": [],
   "source": [
    "netInit = "
   ]
  }
 ],
 "metadata": {
  "kernelspec": {
   "display_name": "Julia 1.7.2",
   "language": "julia",
   "name": "julia-1.7"
  },
  "language_info": {
   "file_extension": ".jl",
   "mimetype": "application/julia",
   "name": "julia",
   "version": "1.7.2"
  },
  "orig_nbformat": 4
 },
 "nbformat": 4,
 "nbformat_minor": 2
}
